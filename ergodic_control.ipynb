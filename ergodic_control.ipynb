{
 "cells": [
  {
   "cell_type": "code",
   "execution_count": 4,
   "metadata": {},
   "outputs": [],
   "source": [
    "import numpy as np\n",
    "import matplotlib.pyplot as plt"
   ]
  },
  {
   "cell_type": "markdown",
   "metadata": {},
   "source": [
    "Consider control of Brownian motion\n",
    "$$\n",
    "dX_{t} = dW_{t} + u_{t}dt\n",
    "$$\n",
    "\n",
    "Ergodic control\n",
    "$$\n",
    "\\min_{u}\\liminf_{T\\to\\infty}\\frac{1}{T}E\\big[\\int_{0}^{T}c(X_t,u_t)dt\\big]\n",
    "$$\n",
    "\n",
    "where\n",
    "$$\n",
    "c(X_{t},u_{t}) = X_{t}^{2} + u_{t}^{2}\n",
    "$$\n",
    "\n",
    "Naive approach, considering the truncated problem\n",
    "$$\n",
    "u^{*} = \\arg\\min E\\big[\\int_{t_{n}}^{t_{n+1}}c(X_{t},u_{t})dt\\big]\n",
    "$$\n"
   ]
  },
  {
   "cell_type": "code",
   "execution_count": 44,
   "metadata": {},
   "outputs": [],
   "source": [
    "def u_control(x):\n",
    "    return -x\n",
    "def c_cost(x):\n",
    "    return np.mean(x**2 + (u_control(x))**2)"
   ]
  },
  {
   "cell_type": "code",
   "execution_count": 58,
   "metadata": {},
   "outputs": [],
   "source": [
    "T = 10\n",
    "N = 1000\n",
    "M = 10000\n",
    "dt = T/N\n",
    "dates = np.linspace(0,T,N+1)\n",
    "sqrtdt = np.sqrt(dt)\n",
    "X0 = np.random.normal(0,1,size = (M))\n",
    "X = np.zeros(shape = (N+1,M))\n",
    "rho = np.zeros(N+1)\n",
    "X[0,:] = X0\n",
    "rho[0] = c_cost(X0)\n",
    "for it in range(N):\n",
    "    dW = np.random.normal(0,sqrtdt,size = (M))\n",
    "    X[it+1,:]  = X[it,:] + dW + u_control(X[it,:])*dt\n",
    "    rho[it+1] = c_cost(X[it+1,:])    "
   ]
  },
  {
   "cell_type": "code",
   "execution_count": 59,
   "metadata": {},
   "outputs": [
    {
     "data": {
      "text/plain": [
       "[<matplotlib.lines.Line2D at 0x24434c14be0>]"
      ]
     },
     "execution_count": 59,
     "metadata": {},
     "output_type": "execute_result"
    },
    {
     "data": {
      "image/png": "[encoded data removed]",
      "text/plain": [
       "<Figure size 432x288 with 1 Axes>"
      ]
     },
     "metadata": {
      "needs_background": "light"
     },
     "output_type": "display_data"
    }
   ],
   "source": [
    "plt.plot(dates,rho)"
   ]
  },
  {
   "cell_type": "code",
   "execution_count": null,
   "metadata": {},
   "outputs": [],
   "source": [
    "ASDASASDAD"
   ]
  },
  {
   "cell_type": "code",
   "execution_count": null,
   "metadata": {},
   "outputs": [],
   "source": [
    "asdsasad"
   ]
  }
 ],
 "metadata": {
  "kernelspec": {
   "display_name": "Python 3",
   "language": "python",
   "name": "python3"
  },
  "language_info": {
   "codemirror_mode": {
    "name": "ipython",
    "version": 3
   },
   "file_extension": ".py",
   "mimetype": "text/x-python",
   "name": "python",
   "nbconvert_exporter": "python",
   "pygments_lexer": "ipython3",
   "version": "3.7.2"
  }
 },
 "nbformat": 4,
 "nbformat_minor": 4
}
